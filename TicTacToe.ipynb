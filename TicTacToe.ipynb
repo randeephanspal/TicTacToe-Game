{
 "cells": [
  {
   "cell_type": "markdown",
   "metadata": {},
   "source": [
    "### Tic Tac Toe Game"
   ]
  },
  {
   "cell_type": "code",
   "execution_count": 1,
   "metadata": {},
   "outputs": [],
   "source": [
    "# import to clear output\n",
    "from IPython.display import clear_output\n",
    "\n",
    "# Step 1: Display the board\n",
    "def display_board(board):\n",
    "    clear_output()\n",
    "    print (\"  |   |   \")\n",
    "    print (str(board[1]) + \" | \" + str(board[2]) + \" | \" + str(board[3]))\n",
    "    print (\"--|---|---\")\n",
    "    print (str(board[4]) + \" | \" + str(board[5]) + \" | \" + str(board[6]))\n",
    "    print (\"--|---|---\")\n",
    "    print (str(board[7]) + \" | \" + str(board[8]) + \" | \" + str(board[9]))\n",
    "    print (\"  |   |   \")  "
   ]
  },
  {
   "cell_type": "code",
   "execution_count": 2,
   "metadata": {},
   "outputs": [],
   "source": [
    "# Step 2: Function to take player input\n",
    "def player_input():\n",
    "    marker=''\n",
    "    while not (marker=='O' or marker=='X'):\n",
    "        marker = input(\"Player 1: Do you want to be X or O: \").upper()\n",
    "    if marker == 'X':\n",
    "        return ('X','O')\n",
    "    return ('O','X')"
   ]
  },
  {
   "cell_type": "code",
   "execution_count": 3,
   "metadata": {},
   "outputs": [],
   "source": [
    "# Step 3: Function that can takes board list object, marker('X'or'O') and position(1-9) \n",
    "# and assign it to board\n",
    "def place_marker(board, marker, position):\n",
    "    board[position] = marker\n",
    "    display_board(board)"
   ]
  },
  {
   "cell_type": "code",
   "execution_count": 4,
   "metadata": {},
   "outputs": [],
   "source": [
    "# Step 4: Function to check if the mark has won\n",
    "\n",
    "def win_check(board,mark):\n",
    "    return ((board[1]==mark and board[2]==mark and board[3]==mark) or\n",
    "    (board[4]==mark and board[5]==mark and board[6]==mark) or \n",
    "    (board[7]==mark and board[8]==mark and board[9]==mark) or \n",
    "    (board[1]==mark and board[4]==mark and board[7]==mark) or\n",
    "    (board[2]==mark and board[5]==mark and board[8]==mark) or\n",
    "    (board[3]==mark and board[6]==mark and board[9]==mark) or\n",
    "    (board[1]==mark and board[5]==mark and board[9]==mark) or\n",
    "    (board[3]==mark and board[5]==mark and board[7]==mark))"
   ]
  },
  {
   "cell_type": "code",
   "execution_count": 5,
   "metadata": {},
   "outputs": [],
   "source": [
    "# Step 5: Function to decide which player goes first\n",
    "import random\n",
    "def choose_first():\n",
    "    if random.randint(0,1) == 0:\n",
    "        return (\"Player 1\")\n",
    "    else:\n",
    "        return (\"Player 2\")"
   ]
  },
  {
   "cell_type": "code",
   "execution_count": 6,
   "metadata": {},
   "outputs": [],
   "source": [
    "# Step 6: Function to check if space is available on board\n",
    "def space_check(board, position):\n",
    "    return board[position]== ' '"
   ]
  },
  {
   "cell_type": "code",
   "execution_count": 7,
   "metadata": {},
   "outputs": [],
   "source": [
    "# Step 7: Function that checks if the board is full and returns boolean value\n",
    "\n",
    "def full_board_check(board):\n",
    "    for i in range(1,10):\n",
    "        if space_check(board,i):\n",
    "            return False    # board is not full yet\n",
    "    return True    # board is full "
   ]
  },
  {
   "cell_type": "code",
   "execution_count": 8,
   "metadata": {},
   "outputs": [],
   "source": [
    "# Step 8: Function that asks for player's next position and then checks from step 6 to check\n",
    "# if its free position\n",
    "def player_choice(board):\n",
    "    position = ' '\n",
    "    while position not in '1 2 3 4 5 6 7 8 9'.split() or not space_check(board, int(position)):\n",
    "        position = input(\"Choose your position (1-9): \")\n",
    "    return(int(position))"
   ]
  },
  {
   "cell_type": "code",
   "execution_count": 9,
   "metadata": {},
   "outputs": [],
   "source": [
    "# Step 9: Function to play again\n",
    "def replay():\n",
    "    replay_option = input(\"Do you want to play again (y/(or press any button for no)): \").lower().startswith('y')\n",
    "    return replay_option"
   ]
  },
  {
   "cell_type": "code",
   "execution_count": 10,
   "metadata": {},
   "outputs": [
    {
     "name": "stdout",
     "output_type": "stream",
     "text": [
      "  |   |   \n",
      "X | X | O\n",
      "--|---|---\n",
      "  | X | O\n",
      "--|---|---\n",
      "  |   | O\n",
      "  |   |   \n",
      "Congratulations!! Player 2 wins the game!\n",
      "Do you want to play again (y/(or press any button for no)): n\n"
     ]
    }
   ],
   "source": [
    "# Step 10: Using all functions above to begin the game\n",
    "\n",
    "def game_begins():\n",
    "    board = [' ']*10\n",
    "    display_board(board)\n",
    "    player1_marker, player2_marker = player_input()\n",
    "    turn = choose_first()\n",
    "    print (turn + ' will go first')\n",
    "    next_player = True\n",
    "    \n",
    "    while next_player:\n",
    "        if turn == 'Player 1':\n",
    "            is_board_full = full_board_check(board)\n",
    "            if is_board_full:\n",
    "                print (\"Game is Tied!!\")\n",
    "                regame = replay()\n",
    "                clear_output()\n",
    "                if regame:\n",
    "                    game_begins()\n",
    "                else:\n",
    "                    break\n",
    "                break\n",
    "            position = player_choice(board)\n",
    "\n",
    "            place_marker(board, player1_marker, position)\n",
    "            display_board(board)\n",
    "            game_won = win_check(board, player1_marker)\n",
    "            if game_won:\n",
    "                print(\"Congratulations!! Player 1 wins the game!\")\n",
    "                regame = replay()\n",
    "                if regame:\n",
    "                    game_begins()\n",
    "                else:\n",
    "                    break\n",
    "                break\n",
    "            turn = 'Player 2'\n",
    "        else:\n",
    "            # Player 2\n",
    "            is_board_full = full_board_check(board)\n",
    "            if is_board_full:\n",
    "                print (\"Game is Tied!!\")\n",
    "                regame = replay()\n",
    "                clear_output()\n",
    "                if regame:\n",
    "                    game_begins()\n",
    "                else:\n",
    "                    break\n",
    "                break\n",
    "            position = player_choice(board)\n",
    "            place_marker(board, player2_marker, position)\n",
    "            display_board(board)\n",
    "            game_won = win_check(board, player2_marker)\n",
    "            if game_won:\n",
    "                print(\"Congratulations!! Player 2 wins the game!\")\n",
    "                regame = replay()\n",
    "                if regame:\n",
    "                    game_begins()\n",
    "                else:\n",
    "                    break\n",
    "                break\n",
    "            turn = 'Player 1'\n",
    "\n",
    "print (\"Welcome to Tic Tac Toe Game!!\")\n",
    "game_begins()"
   ]
  }
 ],
 "metadata": {
  "kernelspec": {
   "display_name": "Python 3",
   "language": "python",
   "name": "python3"
  },
  "language_info": {
   "codemirror_mode": {
    "name": "ipython",
    "version": 3
   },
   "file_extension": ".py",
   "mimetype": "text/x-python",
   "name": "python",
   "nbconvert_exporter": "python",
   "pygments_lexer": "ipython3",
   "version": "3.6.5"
  }
 },
 "nbformat": 4,
 "nbformat_minor": 2
}
